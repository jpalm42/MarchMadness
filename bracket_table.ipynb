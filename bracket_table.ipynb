{
 "cells": [
  {
   "cell_type": "code",
   "execution_count": 1,
   "source": [
    "import pandas as pd\n",
    "import htmlParser as parser\n",
    "\n",
    "url_template = \"http://www.espn.com/mens-college-basketball/tournament/bracket/_/id/{year}22/{year}-ncaa-tournament\"\n",
    "\n",
    "def assembleDF(tournament_year):\n",
    "    url = url_template.format(year=tournament_year)\n",
    "    games_df = pd.DataFrame(data=parser.compileGameData(url), columns=parser.assignDataHeaders())\n",
    "    return(games_df)\n",
    "\n",
    "x = assembleDF(\"2021\")"
   ],
   "outputs": [],
   "metadata": {}
  }
 ],
 "nbformat": 4,
 "nbformat_minor": 2,
 "metadata": {
  "language_info": {
   "codemirror_mode": {
    "name": "ipython",
    "version": 3
   },
   "file_extension": ".py",
   "mimetype": "text/x-python",
   "name": "python",
   "nbconvert_exporter": "python",
   "pygments_lexer": "ipython3",
   "version": 3
  },
  "orig_nbformat": 4
 }
}